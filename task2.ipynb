{
 "cells": [
  {
   "cell_type": "markdown",
   "metadata": {},
   "source": [
    "#### Optimization algorithms with default recommended parameters, additionaly each algorithm has an option to include interactions between variables\n",
    "1. IWLS\n",
    "2. SGD\n",
    "3. ADAM"
   ]
  },
  {
   "cell_type": "code",
   "execution_count": 83,
   "metadata": {},
   "outputs": [],
   "source": [
    "from logisticRegression import LogisticRegression\n",
    "from scipy.io.arff import loadarff\n",
    "import pandas as pd"
   ]
  },
  {
   "cell_type": "code",
   "execution_count": 84,
   "metadata": {},
   "outputs": [
    {
     "name": "stdout",
     "output_type": "stream",
     "text": [
      "[1, 1, 1, 1, 1, 1, 1, 1, 1, 1, 1, 1, 1, 1, 1, 1, 1, 1, 1, 1]\n",
      "[1 1 1 1 0 0 1 0 1 1 0 0 1 0 1 1 1 1 1 1]\n"
     ]
    }
   ],
   "source": [
    "logisticRegressor=LogisticRegression(noOfIterations=1000, learningRate=0.001)\n",
    "raw_data = loadarff(\"./Datasets/blood-transfusion-service-center.arff\")\n",
    "df_data = pd.DataFrame(raw_data[0])\n",
    "df_no_class=df_data.drop('Class',axis=1)\n",
    "X = df_no_class.to_numpy()\n",
    "X=X/100000\n",
    "y = df_data['Class'].to_numpy()\n",
    "y[y==b'2']=1\n",
    "y[y==b'1']=0\n",
    "\n",
    "logisticRegressor.fit(X[:20,].astype(float),y[:20].astype(float))\n",
    "print(logisticRegressor.predict(X[:20,]))\n",
    "print(y[:20])"
   ]
  },
  {
   "cell_type": "code",
   "execution_count": 80,
   "metadata": {},
   "outputs": [
    {
     "data": {
      "text/plain": [
       "array([1., 1., 1., 1., 1., 1., 1., 1., 1., 1., 1., 1., 1., 1., 1., 1., 1.,\n",
       "       1., 1., 1.])"
      ]
     },
     "execution_count": 80,
     "metadata": {},
     "output_type": "execute_result"
    }
   ],
   "source": [
    "from sklearn.linear_model import LogisticRegression\n",
    "clf = LogisticRegression(random_state=0).fit(X[:20,].astype(float),y[:20].astype(float))\n",
    "clf.predict(X[:20,])"
   ]
  }
 ],
 "metadata": {
  "kernelspec": {
   "display_name": "Python 3",
   "language": "python",
   "name": "python3"
  },
  "language_info": {
   "codemirror_mode": {
    "name": "ipython",
    "version": 3
   },
   "file_extension": ".py",
   "mimetype": "text/x-python",
   "name": "python",
   "nbconvert_exporter": "python",
   "pygments_lexer": "ipython3",
   "version": "3.12.2"
  }
 },
 "nbformat": 4,
 "nbformat_minor": 2
}
