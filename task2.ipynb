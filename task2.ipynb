{
 "cells": [
  {
   "cell_type": "markdown",
   "metadata": {},
   "source": [
    "#### Optimization algorithms with default recommended parameters, additionaly each algorithm has an option to include interactions between variables\n",
    "1. IWLS\n",
    "2. SGD\n",
    "3. ADAM"
   ]
  },
  {
   "cell_type": "code",
   "execution_count": 1,
   "metadata": {},
   "outputs": [
    {
     "name": "stderr",
     "output_type": "stream",
     "text": [
      "C:\\Users\\prusak.patryk\\AppData\\Local\\Temp\\ipykernel_13180\\3357929684.py:3: DeprecationWarning: \n",
      "Pyarrow will become a required dependency of pandas in the next major release of pandas (pandas 3.0),\n",
      "(to allow more performant data types, such as the Arrow string type, and better interoperability with other libraries)\n",
      "but was not found to be installed on your system.\n",
      "If this would cause problems for you,\n",
      "please provide us feedback at https://github.com/pandas-dev/pandas/issues/54466\n",
      "        \n",
      "  import pandas as pd\n"
     ]
    }
   ],
   "source": [
    "\n",
    "from scipy.io.arff import loadarff\n",
    "import pandas as pd"
   ]
  },
  {
   "cell_type": "code",
   "execution_count": 53,
   "metadata": {},
   "outputs": [],
   "source": [
    "import numpy as np\n",
    "class LogisticRegression:\n",
    "    def __init__(self, noOfIterations, learningRate):\n",
    "        self.w= []\n",
    "        self.noOfIterations = noOfIterations\n",
    "        self.learningRate = learningRate\n",
    "        self.costs=[]\n",
    "        \n",
    "    def fit(self,X,y):\n",
    "        self.w = np.zeros(X.shape[1])\n",
    "        self.bias=0\n",
    "        self.costs=[]\n",
    "        for i in range(self.noOfIterations):\n",
    "            \n",
    "            a = np.dot(X,self.w) +self.bias\n",
    "            a=a.astype(float)\n",
    "            yHat=1/(1+np.exp(-a))\n",
    "\n",
    "            # cost function (cross entropy loss)\n",
    "            self.costs.append((-1/X.shape[0])*(np.dot(y,yHat)+np.dot((1-y),np.log(1-yHat))))\n",
    "            \n",
    "            # update weights\n",
    "            weightChange = (1/X.shape[0])*np.dot(X.T,(yHat-y))\n",
    "            biasChange = (1/X.shape[0]) * np.sum(yHat-y)\n",
    "\n",
    "            self.w = self.w+self.learningRate*weightChange\n",
    "            self.bias=self.bias+self.learningRate*biasChange\n",
    "\n",
    "    def predict(self,X):\n",
    "        predicted  = 1/(1+np.exp(-(np.dot(X,self.w).astype(float) +self.bias)).astype(float))\n",
    "        predictedClasses = []\n",
    "        for x in predicted:\n",
    "            if x>0.5:\n",
    "                predictedClasses.append(1)\n",
    "            else:\n",
    "                predictedClasses.append(0)\n",
    "\n",
    "        return predictedClasses\n"
   ]
  },
  {
   "cell_type": "code",
   "execution_count": 50,
   "metadata": {},
   "outputs": [
    {
     "name": "stderr",
     "output_type": "stream",
     "text": [
      "C:\\Users\\prusak.patryk\\AppData\\Local\\Temp\\ipykernel_13180\\2385517879.py:17: RuntimeWarning: overflow encountered in exp\n",
      "  yHat=1/(1+np.exp(-a))\n"
     ]
    },
    {
     "name": "stdout",
     "output_type": "stream",
     "text": [
      "[0, 0, 0, 0, 0, 0, 0, 0, 0, 0]\n",
      "[1 1 1 1 0 0 1 0 1 1]\n"
     ]
    },
    {
     "name": "stderr",
     "output_type": "stream",
     "text": [
      "C:\\Users\\prusak.patryk\\AppData\\Local\\Temp\\ipykernel_13180\\2385517879.py:30: RuntimeWarning: overflow encountered in exp\n",
      "  predicted  = 1/(1+np.exp(-(np.dot(X,self.w).astype(float) +self.bias)).astype(float))\n"
     ]
    }
   ],
   "source": [
    "logisticRegressor=LogisticRegression(noOfIterations=100000,learningRate=0.0001)\n",
    "raw_data = loadarff(\"./Datasets/blood-transfusion-service-center.arff\")\n",
    "df_data = pd.DataFrame(raw_data[0])\n",
    "df_no_class=df_data.drop('Class',axis=1)\n",
    "X = df_no_class.to_numpy()\n",
    "y = df_data['Class'].to_numpy()\n",
    "y[y==b'2']=1\n",
    "y[y==b'1']=0\n",
    "\n",
    "logisticRegressor.fit(X[:10,],y[:10])\n",
    "print(logisticRegressor.predict(X[:10,]))\n",
    "print(y[:10])"
   ]
  }
 ],
 "metadata": {
  "kernelspec": {
   "display_name": "Python 3",
   "language": "python",
   "name": "python3"
  },
  "language_info": {
   "codemirror_mode": {
    "name": "ipython",
    "version": 3
   },
   "file_extension": ".py",
   "mimetype": "text/x-python",
   "name": "python",
   "nbconvert_exporter": "python",
   "pygments_lexer": "ipython3",
   "version": "3.12.2"
  }
 },
 "nbformat": 4,
 "nbformat_minor": 2
}
