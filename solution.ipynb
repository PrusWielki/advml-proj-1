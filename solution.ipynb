{
 "cells": [
  {
   "cell_type": "markdown",
   "metadata": {},
   "source": [
    "#### 9 different datasets for classification with binary classes and numerical variables\n",
    "1. 3 small datasets containing at most 10 variables\n",
    "2. 6 large datasets containing more than 10 variables"
   ]
  },
  {
   "cell_type": "markdown",
   "metadata": {},
   "source": [
    "#### Datasets preparation for logistic regression including:\n",
    "1. Filling in missing values (less than 10% of missing values per variable)\n",
    "2. Removing colinear variables"
   ]
  },
  {
   "cell_type": "markdown",
   "metadata": {},
   "source": [
    "#### Optimization algorithms with default recommended parameters, additionaly each algorithm has an option to include interactions between variables\n",
    "1. IWLS\n",
    "2. SGD\n",
    "3. ADAM"
   ]
  }
 ],
 "metadata": {
  "language_info": {
   "name": "python"
  }
 },
 "nbformat": 4,
 "nbformat_minor": 2
}
