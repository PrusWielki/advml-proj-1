{
 "cells": [
  {
   "cell_type": "code",
   "execution_count": 1,
   "metadata": {},
   "outputs": [
    {
     "name": "stderr",
     "output_type": "stream",
     "text": [
      "C:\\Users\\prusak.patryk\\AppData\\Local\\Temp\\ipykernel_20628\\2646969198.py:6: DeprecationWarning: \n",
      "Pyarrow will become a required dependency of pandas in the next major release of pandas (pandas 3.0),\n",
      "(to allow more performant data types, such as the Arrow string type, and better interoperability with other libraries)\n",
      "but was not found to be installed on your system.\n",
      "If this would cause problems for you,\n",
      "please provide us feedback at https://github.com/pandas-dev/pandas/issues/54466\n",
      "        \n",
      "  import pandas as pd\n"
     ]
    }
   ],
   "source": [
    "import numpy as np\n",
    "# import matplotlib.pyplot as plt\n",
    "# from sklearn.model_selection import train_test_split\n",
    "# import math\n",
    "from scipy.io.arff import loadarff\n",
    "import pandas as pd"
   ]
  },
  {
   "cell_type": "markdown",
   "metadata": {},
   "source": [
    "#### 9 different datasets for classification with binary classes and numerical variables\n",
    "1. 3 small datasets containing at most 10 variables\n",
    "2. 6 large datasets containing more than 10 variables"
   ]
  },
  {
   "cell_type": "code",
   "execution_count": 6,
   "metadata": {},
   "outputs": [
    {
     "name": "stdout",
     "output_type": "stream",
     "text": [
      "[[2.00e+00 5.00e+01 1.25e+04 9.80e+01]\n",
      " [0.00e+00 1.30e+01 3.25e+03 2.80e+01]\n",
      " [1.00e+00 1.60e+01 4.00e+03 3.50e+01]\n",
      " ...\n",
      " [2.30e+01 3.00e+00 7.50e+02 6.20e+01]\n",
      " [3.90e+01 1.00e+00 2.50e+02 3.90e+01]\n",
      " [7.20e+01 1.00e+00 2.50e+02 7.20e+01]]\n",
      "[b'2' b'2' b'2' b'2' b'1' b'1' b'2' b'1' b'2' b'2' b'1' b'1' b'2' b'1'\n",
      " b'2' b'2' b'2' b'2' b'2' b'2' b'2' b'1' b'2' b'2' b'1' b'1' b'1' b'2'\n",
      " b'2' b'1' b'1' b'2' b'2' b'2' b'1' b'2' b'2' b'2' b'2' b'2' b'2' b'1'\n",
      " b'2' b'1' b'2' b'2' b'1' b'1' b'1' b'1' b'1' b'2' b'1' b'1' b'2' b'2'\n",
      " b'2' b'2' b'1' b'1' b'1' b'2' b'1' b'2' b'2' b'1' b'2' b'1' b'1' b'1'\n",
      " b'1' b'1' b'2' b'1' b'2' b'2' b'2' b'1' b'1' b'1' b'2' b'1' b'1' b'1'\n",
      " b'2' b'1' b'1' b'1' b'1' b'2' b'2' b'1' b'1' b'1' b'1' b'1' b'1' b'2'\n",
      " b'2' b'2' b'2' b'2' b'1' b'1' b'1' b'1' b'1' b'1' b'1' b'1' b'2' b'1'\n",
      " b'1' b'2' b'1' b'1' b'2' b'1' b'1' b'2' b'2' b'2' b'2' b'2' b'1' b'1'\n",
      " b'2' b'1' b'2' b'2' b'1' b'1' b'1' b'1' b'1' b'1' b'1' b'1' b'1' b'1'\n",
      " b'1' b'1' b'1' b'1' b'2' b'2' b'1' b'1' b'2' b'1' b'2' b'1' b'1' b'2'\n",
      " b'1' b'1' b'1' b'1' b'1' b'1' b'1' b'1' b'1' b'2' b'2' b'2' b'1' b'1'\n",
      " b'1' b'1' b'1' b'1' b'1' b'1' b'1' b'1' b'2' b'2' b'2' b'1' b'2' b'1'\n",
      " b'1' b'1' b'1' b'1' b'1' b'1' b'1' b'2' b'1' b'1' b'1' b'1' b'1' b'2'\n",
      " b'2' b'1' b'1' b'1' b'1' b'1' b'2' b'1' b'1' b'1' b'1' b'1' b'1' b'1'\n",
      " b'1' b'1' b'1' b'1' b'1' b'2' b'1' b'1' b'1' b'1' b'1' b'2' b'2' b'1'\n",
      " b'2' b'2' b'1' b'1' b'1' b'1' b'1' b'2' b'1' b'1' b'1' b'1' b'1' b'1'\n",
      " b'1' b'1' b'2' b'1' b'2' b'2' b'1' b'1' b'1' b'1' b'1' b'1' b'1' b'1'\n",
      " b'2' b'2' b'1' b'1' b'1' b'1' b'1' b'1' b'1' b'2' b'1' b'2' b'1' b'2'\n",
      " b'1' b'1' b'1' b'1' b'1' b'1' b'1' b'1' b'1' b'1' b'1' b'1' b'1' b'1'\n",
      " b'1' b'2' b'1' b'1' b'1' b'1' b'1' b'2' b'2' b'2' b'2' b'1' b'1' b'1'\n",
      " b'1' b'1' b'1' b'1' b'1' b'1' b'1' b'1' b'1' b'1' b'1' b'2' b'1' b'1'\n",
      " b'1' b'1' b'1' b'1' b'1' b'1' b'1' b'1' b'1' b'1' b'2' b'1' b'1' b'2'\n",
      " b'1' b'2' b'1' b'1' b'1' b'1' b'2' b'1' b'1' b'1' b'2' b'2' b'1' b'2'\n",
      " b'1' b'1' b'2' b'1' b'1' b'1' b'1' b'1' b'1' b'1' b'1' b'1' b'1' b'1'\n",
      " b'1' b'1' b'1' b'1' b'1' b'1' b'1' b'1' b'1' b'1' b'1' b'1' b'1' b'1'\n",
      " b'1' b'2' b'1' b'1' b'1' b'2' b'2' b'1' b'1' b'1' b'1' b'2' b'1' b'1'\n",
      " b'1' b'1' b'1' b'1' b'1' b'1' b'1' b'1' b'1' b'1' b'1' b'1' b'1' b'1'\n",
      " b'1' b'1' b'1' b'1' b'2' b'1' b'1' b'2' b'1' b'1' b'1' b'1' b'1' b'1'\n",
      " b'1' b'1' b'1' b'1' b'1' b'1' b'1' b'1' b'1' b'1' b'1' b'1' b'1' b'1'\n",
      " b'1' b'1' b'1' b'1' b'1' b'1' b'1' b'1' b'1' b'1' b'1' b'1' b'2' b'1'\n",
      " b'1' b'1' b'1' b'1' b'1' b'1' b'1' b'1' b'1' b'1' b'1' b'1' b'1' b'1'\n",
      " b'1' b'1' b'1' b'1' b'1' b'1' b'1' b'1' b'1' b'1' b'1' b'1' b'1' b'1'\n",
      " b'2' b'1' b'1' b'1' b'1' b'1' b'2' b'1' b'1' b'1' b'1' b'1' b'1' b'2'\n",
      " b'1' b'1' b'1' b'1' b'1' b'1' b'1' b'1' b'1' b'1' b'1' b'1' b'1' b'1'\n",
      " b'1' b'1' b'1' b'1' b'1' b'1' b'1' b'1' b'1' b'1' b'2' b'2' b'2' b'1'\n",
      " b'2' b'2' b'2' b'1' b'2' b'2' b'2' b'1' b'1' b'1' b'2' b'1' b'2' b'2'\n",
      " b'2' b'2' b'2' b'2' b'2' b'2' b'1' b'1' b'2' b'1' b'1' b'2' b'2' b'2'\n",
      " b'1' b'1' b'1' b'2' b'2' b'2' b'2' b'2' b'2' b'1' b'2' b'2' b'1' b'2'\n",
      " b'1' b'1' b'2' b'2' b'1' b'2' b'2' b'1' b'1' b'1' b'1' b'1' b'1' b'1'\n",
      " b'2' b'1' b'2' b'1' b'1' b'1' b'1' b'1' b'2' b'1' b'1' b'1' b'2' b'1'\n",
      " b'2' b'2' b'2' b'1' b'1' b'1' b'1' b'2' b'1' b'1' b'1' b'1' b'2' b'1'\n",
      " b'1' b'1' b'1' b'1' b'1' b'2' b'1' b'1' b'2' b'1' b'1' b'1' b'1' b'1'\n",
      " b'1' b'1' b'1' b'1' b'1' b'1' b'1' b'1' b'1' b'1' b'2' b'1' b'1' b'1'\n",
      " b'1' b'1' b'2' b'1' b'1' b'1' b'2' b'1' b'2' b'1' b'1' b'1' b'1' b'1'\n",
      " b'1' b'1' b'1' b'1' b'1' b'1' b'1' b'1' b'1' b'2' b'2' b'1' b'1' b'1'\n",
      " b'2' b'1' b'1' b'1' b'1' b'1' b'1' b'1' b'1' b'1' b'1' b'1' b'1' b'1'\n",
      " b'1' b'1' b'1' b'1' b'1' b'1' b'1' b'1' b'1' b'2' b'1' b'2' b'1' b'1'\n",
      " b'1' b'1' b'1' b'1' b'1' b'1' b'1' b'1' b'2' b'1' b'1' b'1' b'1' b'1'\n",
      " b'1' b'1' b'1' b'1' b'1' b'1' b'1' b'1' b'1' b'2' b'1' b'1' b'1' b'1'\n",
      " b'1' b'1' b'1' b'1' b'1' b'1' b'1' b'1' b'2' b'1' b'1' b'1' b'2' b'1'\n",
      " b'1' b'1' b'1' b'1' b'1' b'1' b'1' b'1' b'1' b'1' b'1' b'1' b'1' b'1'\n",
      " b'1' b'1' b'1' b'1' b'2' b'1' b'1' b'1' b'1' b'1' b'1' b'1' b'1' b'1'\n",
      " b'1' b'1' b'1' b'1' b'1' b'1']\n"
     ]
    }
   ],
   "source": [
    "# Perform a small EDA of the datasets, check for missing values, print summary, add some short dataset description\n",
    "raw_data = loadarff(\"./Datasets/blood-transfusion-service-center.arff\")\n",
    "df_data = pd.DataFrame(raw_data[0])\n",
    "df_no_class=df_data.drop('Class',axis=1)\n",
    "X = df_no_class.to_numpy()\n",
    "y = df_data['Class'].to_numpy()\n",
    "\n",
    "print(X)\n",
    "print(y)"
   ]
  },
  {
   "cell_type": "markdown",
   "metadata": {},
   "source": [
    "#### Datasets preparation for logistic regression including:\n",
    "1. Filling in missing values (less than 10% of missing values per variable)\n",
    "2. Removing colinear variables"
   ]
  },
  {
   "cell_type": "code",
   "execution_count": null,
   "metadata": {},
   "outputs": [],
   "source": [
    "# Fill in missing values for each dataset\n"
   ]
  },
  {
   "cell_type": "code",
   "execution_count": null,
   "metadata": {},
   "outputs": [],
   "source": [
    "# Remove colinear variables from each dataset"
   ]
  },
  {
   "cell_type": "markdown",
   "metadata": {},
   "source": [
    "#### Optimization algorithms with default recommended parameters, additionaly each algorithm has an option to include interactions between variables\n",
    "1. IWLS\n",
    "2. SGD\n",
    "3. ADAM"
   ]
  },
  {
   "cell_type": "code",
   "execution_count": null,
   "metadata": {},
   "outputs": [],
   "source": [
    "# Implement optimization algorithms"
   ]
  }
 ],
 "metadata": {
  "kernelspec": {
   "display_name": "Python 3",
   "language": "python",
   "name": "python3"
  },
  "language_info": {
   "codemirror_mode": {
    "name": "ipython",
    "version": 3
   },
   "file_extension": ".py",
   "mimetype": "text/x-python",
   "name": "python",
   "nbconvert_exporter": "python",
   "pygments_lexer": "ipython3",
   "version": "3.12.2"
  }
 },
 "nbformat": 4,
 "nbformat_minor": 2
}
